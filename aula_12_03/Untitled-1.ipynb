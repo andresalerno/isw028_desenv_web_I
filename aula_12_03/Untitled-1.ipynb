{
 "cells": [
  {
   "cell_type": "markdown",
   "metadata": {},
   "source": [
    "1. mkdir primeiroprojetoflask\n",
    "\n",
    "2. python -m venv .venv\n",
    "\n",
    "3. .venv/Scripts/activate\n",
    "\n",
    "4. .venv/Scripts/deactivate\n",
    "\n",
    "5. Get-ExecutionPolicy\n",
    "\n",
    "6. Set-ExecutionPolicy -ExecutionPolicy"
   ]
  }
 ],
 "metadata": {
  "language_info": {
   "name": "python"
  }
 },
 "nbformat": 4,
 "nbformat_minor": 2
}
